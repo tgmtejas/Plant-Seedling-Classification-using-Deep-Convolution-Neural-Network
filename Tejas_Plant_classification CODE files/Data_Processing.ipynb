{
  "nbformat": 4,
  "nbformat_minor": 0,
  "metadata": {
    "colab": {
      "name": "Data_Processing.ipynb",
      "version": "0.3.2",
      "views": {},
      "default_view": {},
      "provenance": [],
      "collapsed_sections": []
    },
    "kernelspec": {
      "name": "python3",
      "display_name": "Python 3"
    },
    "accelerator": "GPU"
  },
  "cells": [
    {
      "metadata": {
        "id": "YkVcyou-rK8H",
        "colab_type": "code",
        "colab": {
          "autoexec": {
            "startup": false,
            "wait_interval": 0
          }
        }
      },
      "cell_type": "code",
      "source": [
        "import os\n",
        "import numpy as np\n",
        "import pandas as pd\n",
        "import cv2\n",
        "import matplotlib.pyplot as plt\n",
        "%matplotlib inline"
      ],
      "execution_count": 0,
      "outputs": []
    },
    {
      "metadata": {
        "id": "zu0zi1VKrT5n",
        "colab_type": "code",
        "colab": {
          "autoexec": {
            "startup": false,
            "wait_interval": 0
          }
        }
      },
      "cell_type": "code",
      "source": [
        "\n",
        "dataset_dir = 'drive/Plant Classification Using C-CNN/dataset'  #Change Directory here for dataset   "
      ],
      "execution_count": 0,
      "outputs": []
    },
    {
      "metadata": {
        "id": "d62KWVEBribI",
        "colab_type": "code",
        "colab": {
          "autoexec": {
            "startup": false,
            "wait_interval": 0
          }
        }
      },
      "cell_type": "code",
      "source": [
        "SPECIES = ['Black-grass', 'Charlock', 'Cleavers', 'Common Chickweed', 'Common wheat', 'Fat Hen',\n",
        "              'Loose Silky-bent', 'Maize', 'Scentless Mayweed', 'Shepherds Purse',\n",
        "              'Small-flowered Cranesbill', 'Sugar beet']"
      ],
      "execution_count": 0,
      "outputs": []
    },
    {
      "metadata": {
        "id": "pbHH5iFWrlbH",
        "colab_type": "code",
        "colab": {
          "autoexec": {
            "startup": false,
            "wait_interval": 0
          },
          "base_uri": "https://localhost:8080/",
          "height": 221
        },
        "outputId": "e13b9f9a-e49e-45de-cd19-5c68c2fa3efc",
        "executionInfo": {
          "status": "ok",
          "timestamp": 1524018089740,
          "user_tz": 240,
          "elapsed": 26487,
          "user": {
            "displayName": "Tejas Mahale",
            "photoUrl": "https://lh3.googleusercontent.com/a/default-user=s128",
            "userId": "107126697910026170785"
          }
        }
      },
      "cell_type": "code",
      "source": [
        "for species in SPECIES:\n",
        "    print('{} {} images'.format(species, len(os.listdir(os.path.join(dataset_dir, species)))))"
      ],
      "execution_count": 0,
      "outputs": [
        {
          "output_type": "stream",
          "text": [
            "Black-grass 310 images\n",
            "Charlock 452 images\n",
            "Cleavers 335 images\n",
            "Common Chickweed 713 images\n",
            "Common wheat 253 images\n",
            "Fat Hen 538 images\n",
            "Loose Silky-bent 766 images\n",
            "Maize 257 images\n",
            "Scentless Mayweed 607 images\n",
            "Shepherds Purse 274 images\n",
            "Small-flowered Cranesbill 586 images\n",
            "Sugar beet 463 images\n"
          ],
          "name": "stdout"
        }
      ]
    },
    {
      "metadata": {
        "id": "eEwakvTLrowI",
        "colab_type": "code",
        "colab": {
          "autoexec": {
            "startup": false,
            "wait_interval": 0
          },
          "base_uri": "https://localhost:8080/",
          "height": 34
        },
        "outputId": "5ebaa1ea-0575-474d-9f1e-b6939e6b4060",
        "executionInfo": {
          "status": "ok",
          "timestamp": 1524018094938,
          "user_tz": 240,
          "elapsed": 380,
          "user": {
            "displayName": "Tejas Mahale",
            "photoUrl": "https://lh3.googleusercontent.com/a/default-user=s128",
            "userId": "107126697910026170785"
          }
        }
      },
      "cell_type": "code",
      "source": [
        "train = []\n",
        "\n",
        "for spec_num, species in enumerate(SPECIES):\n",
        "    for file in os.listdir(os.path.join(dataset_dir, species)):\n",
        "        train.append(['drive/Plant Classification Using C-CNN/dataset/{}/{}'.format(species, file), spec_num, species]) #Change Directory here for  drive/Plant Classification Using C-CNN/dataset\n",
        "        \n",
        "train = pd.DataFrame(train, columns=['file', 'spec_num', 'species'])\n",
        "\n",
        "print('Training Data: ',train.shape)"
      ],
      "execution_count": 0,
      "outputs": [
        {
          "output_type": "stream",
          "text": [
            "Training Data:  (5554, 3)\n"
          ],
          "name": "stdout"
        }
      ]
    },
    {
      "metadata": {
        "id": "qsBLU-husY_5",
        "colab_type": "code",
        "colab": {
          "autoexec": {
            "startup": false,
            "wait_interval": 0
          },
          "base_uri": "https://localhost:8080/",
          "height": 119
        },
        "outputId": "13660ffe-55be-42ad-fb0f-b793ab1cd595",
        "executionInfo": {
          "status": "ok",
          "timestamp": 1524018099842,
          "user_tz": 240,
          "elapsed": 249,
          "user": {
            "displayName": "Tejas Mahale",
            "photoUrl": "https://lh3.googleusercontent.com/a/default-user=s128",
            "userId": "107126697910026170785"
          }
        }
      },
      "cell_type": "code",
      "source": [
        "print(train.head())"
      ],
      "execution_count": 0,
      "outputs": [
        {
          "output_type": "stream",
          "text": [
            "                                                file  spec_num      species\n",
            "0  drive/Plant Classification Using C-CNN/dataset...         0  Black-grass\n",
            "1  drive/Plant Classification Using C-CNN/dataset...         0  Black-grass\n",
            "2  drive/Plant Classification Using C-CNN/dataset...         0  Black-grass\n",
            "3  drive/Plant Classification Using C-CNN/dataset...         0  Black-grass\n",
            "4  drive/Plant Classification Using C-CNN/dataset...         0  Black-grass\n"
          ],
          "name": "stdout"
        }
      ]
    },
    {
      "metadata": {
        "id": "pWzEVDwnskv5",
        "colab_type": "code",
        "colab": {
          "autoexec": {
            "startup": false,
            "wait_interval": 0
          }
        }
      },
      "cell_type": "code",
      "source": [
        "def Masking(image):\n",
        "    hsv_image = cv2.cvtColor(image, cv2.COLOR_BGR2HSV)\n",
        "\n",
        "    sensitivity = 35\n",
        "    lower= np.array([60 - sensitivity, 100, 50])\n",
        "    upper= np.array([60 + sensitivity, 255, 255])\n",
        "\n",
        "    mask = cv2.inRange(hsv_image, lower, upper)\n",
        "    Morph = cv2.getStructuringElement(cv2.MORPH_ELLIPSE, (11,11))\n",
        "    mask = cv2.morphologyEx(mask, cv2.MORPH_CLOSE, Morph)\n",
        "    \n",
        "    return mask\n",
        "\n",
        "def Segmenting(img):\n",
        "    mask = Masking(img)\n",
        "    segmented = cv2.bitwise_and(img, img, mask = mask)\n",
        "    return segmented\n",
        "\n",
        "def Sharpening(img):\n",
        "    img_blur = cv2.GaussianBlur(img, (0, 0), 3)\n",
        "    sharp = cv2.addWeighted(img, 1.5, img_blur, -0.5, 0)\n",
        "    return sharp"
      ],
      "execution_count": 0,
      "outputs": []
    },
    {
      "metadata": {
        "id": "8WdzsVROvGVN",
        "colab_type": "code",
        "colab": {
          "autoexec": {
            "startup": false,
            "wait_interval": 0
          },
          "base_uri": "https://localhost:8080/",
          "height": 255
        },
        "outputId": "8f5a8755-1106-48a0-de3c-a16e191b579e",
        "executionInfo": {
          "status": "ok",
          "timestamp": 1524020864714,
          "user_tz": 240,
          "elapsed": 2690759,
          "user": {
            "displayName": "Tejas Mahale",
            "photoUrl": "https://lh3.googleusercontent.com/a/default-user=s128",
            "userId": "107126697910026170785"
          }
        }
      },
      "cell_type": "code",
      "source": [
        "%%time\n",
        "\n",
        "x_train = []\n",
        "\n",
        "for i in range(len(train)):\n",
        "    img = cv2.imread(train['file'][i])\n",
        "    img = cv2.resize(img,dsize=(256,256))\n",
        "    img_seg = Segmenting(img)\n",
        "    img_sharp = Sharpening(img_seg)\n",
        "    img_rgb = cv2.cvtColor( img_sharp, cv2.COLOR_RGB2GRAY )\n",
        "    img_grey = np.reshape(img_rgb,(256,256,1))\n",
        "    x_train.append(np.concatenate((np.array(img),np.array(img_grey)),axis=2))\n",
        "    if ((i % 500) == 0):\n",
        "      print(i,' images has been processed.')\n",
        "\n",
        "x_train = np.array(x_train)"
      ],
      "execution_count": 0,
      "outputs": [
        {
          "output_type": "stream",
          "text": [
            "0  images has been processed.\n",
            "500  images has been processed.\n",
            "1000  images has been processed.\n",
            "1500  images has been processed.\n",
            "2000  images has been processed.\n",
            "2500  images has been processed.\n",
            "3000  images has been processed.\n",
            "3500  images has been processed.\n",
            "4000  images has been processed.\n",
            "4500  images has been processed.\n",
            "5000  images has been processed.\n",
            "5500  images has been processed.\n",
            "CPU times: user 1min, sys: 4.18 s, total: 1min 4s\n",
            "Wall time: 44min 50s\n"
          ],
          "name": "stdout"
        }
      ]
    },
    {
      "metadata": {
        "id": "Es-UsEIcjyBs",
        "colab_type": "code",
        "colab": {
          "autoexec": {
            "startup": false,
            "wait_interval": 0
          }
        }
      },
      "cell_type": "code",
      "source": [
        "from scipy.io import savemat\n",
        "data ={}\n",
        "data[\"train\"] = x_train\n",
        "savemat(\"drive/Plant Classification Using C-CNN/train/Image_Processed_data.mat\", data) #Change directory here to save .mat dataset\n",
        "\n"
      ],
      "execution_count": 0,
      "outputs": []
    },
    {
      "metadata": {
        "id": "CS3behkCj0yW",
        "colab_type": "code",
        "colab": {
          "autoexec": {
            "startup": false,
            "wait_interval": 0
          },
          "base_uri": "https://localhost:8080/",
          "height": 34
        },
        "outputId": "188efd90-3bb2-4c13-b227-88aae2f78ab8",
        "executionInfo": {
          "status": "ok",
          "timestamp": 1524021888782,
          "user_tz": 240,
          "elapsed": 8192,
          "user": {
            "displayName": "Tejas Mahale",
            "photoUrl": "https://lh3.googleusercontent.com/a/default-user=s128",
            "userId": "107126697910026170785"
          }
        }
      },
      "cell_type": "code",
      "source": [
        "from keras.utils.np_utils import to_categorical\n",
        "labels = train['spec_num']\n",
        "labels = to_categorical(labels, num_classes = len(SPECIES))"
      ],
      "execution_count": 0,
      "outputs": [
        {
          "output_type": "stream",
          "text": [
            "Using TensorFlow backend.\n"
          ],
          "name": "stderr"
        }
      ]
    },
    {
      "metadata": {
        "id": "xfs5T7pnxqY5",
        "colab_type": "code",
        "colab": {
          "autoexec": {
            "startup": false,
            "wait_interval": 0
          },
          "base_uri": "https://localhost:8080/",
          "height": 51
        },
        "outputId": "9af4898a-790b-4863-8edf-6fcb4a5066a5",
        "executionInfo": {
          "status": "ok",
          "timestamp": 1524022301151,
          "user_tz": 240,
          "elapsed": 264696,
          "user": {
            "displayName": "Tejas Mahale",
            "photoUrl": "https://lh3.googleusercontent.com/a/default-user=s128",
            "userId": "107126697910026170785"
          }
        }
      },
      "cell_type": "code",
      "source": [
        "%%time\n",
        "from scipy.io import savemat\n",
        "data ={}\n",
        "data[\"train\"] = x_train\n",
        "data[\"train_labels\"] = labels\n",
        "savemat(\"drive/Plant Classification Using C-CNN/train/Image_Processed_1data.mat\", data)#Change directory here to save .mat dataset"
      ],
      "execution_count": 0,
      "outputs": [
        {
          "output_type": "stream",
          "text": [
            "CPU times: user 1min 11s, sys: 664 ms, total: 1min 12s\n",
            "Wall time: 4min 24s\n"
          ],
          "name": "stdout"
        }
      ]
    },
    {
      "metadata": {
        "id": "M5JbF4ZFPt2S",
        "colab_type": "code",
        "colab": {
          "autoexec": {
            "startup": false,
            "wait_interval": 0
          }
        }
      },
      "cell_type": "code",
      "source": [
        ""
      ],
      "execution_count": 0,
      "outputs": []
    }
  ]
}